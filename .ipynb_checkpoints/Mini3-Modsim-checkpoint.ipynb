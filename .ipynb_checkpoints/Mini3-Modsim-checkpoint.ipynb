{
 "cells": [
  {
   "cell_type": "markdown",
   "metadata": {},
   "source": [
    "# Universidad del Valle de Guatemala\n",
    "## Guatemala 30 de Septiembre de 2020\n",
    "## Modelacion y Simulacion\n",
    "### Luis Esturban 17256\n",
    "### MiniProyecto 2"
   ]
  },
  {
   "cell_type": "code",
   "execution_count": 2,
   "metadata": {},
   "outputs": [],
   "source": [
    "import numpy as np\n",
    "import random"
   ]
  },
  {
   "cell_type": "code",
   "execution_count": 3,
   "metadata": {},
   "outputs": [],
   "source": [
    "#Funcion que se encarga de calcular el tiempo\n",
    "def times(time, mSol, cond):\n",
    "    if cond:\n",
    "        return time - ((1/mSol)*np.log(random.random()))\n",
    "    else: \n",
    "        while True:\n",
    "            random_number = random.random()\n",
    "            time = time - (1/mSol)*np.log(random_number)\n",
    "            random_number = random.random()\n",
    "            if (random_number <= np.random.poisson(time)/mSol):\n",
    "                return time"
   ]
  },
  {
   "cell_type": "code",
   "execution_count": 27,
   "metadata": {},
   "outputs": [],
   "source": [
    "#Función para simular procesamiento\n",
    "def simulate(mSol, mtime, speed, cores):\n",
    "    #Variables iniciales y soportes\n",
    "    time = 0 \n",
    "    Na = 0\n",
    "    cpus = np.zeros(cores)\n",
    "    btime = np.zeros(cores)\n",
    "    n= 0\n",
    "    A = {}\n",
    "    D = {}\n",
    "    It = []\n",
    "    ta = times(time,mSol,True)\n",
    "    td = np.infty + np.zeros(cores) \n",
    "    ti = np.zeros(cores)\n",
    "    #Ciclo que se encarga de revisar y proceder dependiendo del caso necesario\n",
    "    while time < mtime:\n",
    "        if (ta == min(ta,min(td))):\n",
    "            time = ta\n",
    "            Na = Na +1\n",
    "            ta = times(time,mSol,True)\n",
    "            A[Na] = time\n",
    "            if (n < cores):\n",
    "                for i in range(cores):\n",
    "                    if (ti[i] == 0):\n",
    "                        ti[i] = Na\n",
    "                        It = np.append(It,time-A[Na])\n",
    "                        td[i] = time - ((1/mSol)*np.log(random.random()))\n",
    "                        btime[i] = btime[i] + td[i] - time\n",
    "                        break\n",
    "            n = n + 1\n",
    "        else:\n",
    "            temp = np.argmin(td)\n",
    "            time = td[temp]\n",
    "            cpus[temp] = cpus[temp] +1\n",
    "            D[ti[temp]] = time\n",
    "            if (n <= cores):\n",
    "                ti[temp] = 0\n",
    "                td[temp] = np.infty\n",
    "            else:\n",
    "                index = max(ti) +1\n",
    "                ti[temp] = index\n",
    "                It = np.append(It, time - A[index])\n",
    "                td[temp] = time - ((1/mSol)*np.log(random.random()))\n",
    "                btime[temp] = btime[temp] + td[temp] - time\n",
    "            n = n - 1\n",
    "    tempa = td\n",
    "    ftimea = []\n",
    "    for i in tempa:\n",
    "        if not np.isinf(i):\n",
    "            ftimea.append(i)\n",
    "    ard = It\n",
    "    task = []\n",
    "    cont = 0\n",
    "    for i in ard:\n",
    "        if i != 0:\n",
    "            task.append(1/i)\n",
    "        cont = cont + 1\n",
    "    ftime = np.maximum(np.ones(cores)*mtime - btime,0)\n",
    "    ttask = np.round(sum(It),5)\n",
    "    ptask = np.round(np.mean(It),5)\n",
    "    pttime = np.round(sum(task)/cont,5)\n",
    "    try:\n",
    "        timef = np.round(max(ftimea),8)\n",
    "    except:\n",
    "        pass\n",
    "\n",
    "    return cpus, btime, ftime, ttask, ptask, pttime, timef"
   ]
  },
  {
   "cell_type": "markdown",
   "metadata": {},
   "source": [
    "## Task 1"
   ]
  },
  {
   "cell_type": "code",
   "execution_count": 12,
   "metadata": {},
   "outputs": [
    {
     "name": "stdout",
     "output_type": "stream",
     "text": [
      "Solicitudes atendidas: [142709.]\n",
      "Tiempo ocupado: [143732.67701879]\n",
      "Tiempo Libre: [267.32298121]\n",
      "Tiempo en cola: 21557.60802\n",
      "promedio en cola: 0.15106\n",
      "promedio de trabajo: 64.20826\n",
      "Ultima ejecucion de trabajo: 60.00136628\n"
     ]
    }
   ],
   "source": [
    "#Gorilla\n",
    "mSol = 2400\n",
    "time = 60\n",
    "speed = 1/(100*60)\n",
    "cores = 1\n",
    "task = None\n",
    "task, btime, ftime, ttask, ptask, pttime, timef = simulate(mSol, time, speed, cores)\n",
    "print(\"Solicitudes atendidas:\",task)\n",
    "print(\"Tiempo ocupado:\",btime*mSol)\n",
    "print(\"Tiempo Libre:\",ftime*mSol)\n",
    "print(\"Tiempo en cola:\",ttask)\n",
    "print(\"promedio en cola:\",ptask)\n",
    "print(\"promedio de trabajo:\",pttime)\n",
    "print(\"Ultima ejecucion de trabajo:\",timef)"
   ]
  },
  {
   "cell_type": "code",
   "execution_count": 14,
   "metadata": {},
   "outputs": [
    {
     "name": "stdout",
     "output_type": "stream",
     "text": [
      "Solicitudes atendidas: [7.2169e+04 4.3414e+04 1.9787e+04 6.7890e+03 1.7400e+03 3.5000e+02\n",
      " 6.4000e+01 7.0000e+00 1.0000e+00 0.0000e+00]\n",
      "Tiempo ocupado: [7.20318529e+04 4.33417132e+04 1.97669101e+04 6.72652342e+03\n",
      " 1.76491509e+03 3.43778886e+02 6.07198134e+01 6.69484596e+00\n",
      " 8.60568070e-01 0.00000000e+00]\n",
      "Tiempo Libre: [ 71968.1471327  100658.28684653 124233.08992459 137273.47657736\n",
      " 142235.0849073  143656.22111443 143939.28018655 143993.30515404\n",
      " 143999.13943193 144000.        ]\n",
      "Tiempo en cola: 0.0\n",
      "promedio en cola: 0.0\n",
      "promedio de trabajo: 0.0\n",
      "Ultima ejecucion de trabajo: 60.00019988\n"
     ]
    }
   ],
   "source": [
    "#Ant\n",
    "mSol = 2400\n",
    "time = 60\n",
    "speed = 1/(10*60)\n",
    "cores = 10\n",
    "task = None\n",
    "task, btime, ftime, ttask, ptask, pttime, timef = simulate(mSol, time, speed, cores)\n",
    "print(\"Solicitudes atendidas:\",task)\n",
    "print(\"Tiempo ocupado:\",btime*mSol)\n",
    "print(\"Tiempo Libre:\",ftime*mSol)\n",
    "print(\"Tiempo en cola:\",ttask)\n",
    "print(\"promedio en cola:\",ptask)\n",
    "print(\"promedio de trabajo:\",pttime)\n",
    "print(\"Ultima ejecucion de trabajo:\",timef)"
   ]
  },
  {
   "cell_type": "markdown",
   "metadata": {},
   "source": [
    "## Task 2"
   ]
  },
  {
   "cell_type": "code",
   "execution_count": 28,
   "metadata": {},
   "outputs": [
    {
     "name": "stdout",
     "output_type": "stream",
     "text": [
      "Solicitudes atendidas: [7.2141e+04 4.3582e+04 1.9580e+04 6.7660e+03 1.7390e+03 3.3300e+02\n",
      " 4.3000e+01 6.0000e+00 1.0000e+00 0.0000e+00 0.0000e+00 0.0000e+00\n",
      " 0.0000e+00 0.0000e+00 0.0000e+00]\n",
      "Tiempo ocupado: [7.19293124e+04 4.29794841e+04 1.98102892e+04 6.77823030e+03\n",
      " 1.72885499e+03 3.03857280e+02 4.56938412e+01 3.28648904e+00\n",
      " 1.30491311e+00 0.00000000e+00 0.00000000e+00 0.00000000e+00\n",
      " 0.00000000e+00 0.00000000e+00 0.00000000e+00]\n",
      "Tiempo Libre: [ 72070.68764232 101020.51593982 124189.71077814 137221.76969872\n",
      " 142271.14500913 143696.14272004 143954.30615881 143996.71351096\n",
      " 143998.69508689 144000.         144000.         144000.\n",
      " 144000.         144000.         144000.        ]\n",
      "Tiempo en cola: 0.0\n",
      "promedio en cola: 0.0\n",
      "promedio de trabajo: 0.0\n",
      "Ultima ejecucion de trabajo: 60.00112475\n"
     ]
    }
   ],
   "source": [
    "#ANT\n",
    "mSol = 2400\n",
    "time = 60\n",
    "speed = 1/(10*60)\n",
    "cores = 15\n",
    "task = None\n",
    "task, btime, ftime, ttask, ptask, pttime, timef = simulate(mSol, time, speed, cores)\n",
    "print(\"Solicitudes atendidas:\",task)\n",
    "print(\"Tiempo ocupado:\",btime*mSol)\n",
    "print(\"Tiempo Libre:\",ftime*mSol)\n",
    "print(\"Tiempo en cola:\",ttask)\n",
    "print(\"promedio en cola:\",ptask)\n",
    "print(\"promedio de trabajo:\",pttime)\n",
    "print(\"Ultima ejecucion de trabajo:\",timef)"
   ]
  },
  {
   "cell_type": "markdown",
   "metadata": {},
   "source": [
    "## Task 3"
   ]
  },
  {
   "cell_type": "code",
   "execution_count": 18,
   "metadata": {},
   "outputs": [
    {
     "name": "stdout",
     "output_type": "stream",
     "text": [
      "Solicitudes atendidas: [360400.]\n",
      "Tiempo ocupado: [359795.72725138]\n",
      "Tiempo Libre: [204.27274862]\n",
      "Tiempo en cola: 37606.9447\n",
      "promedio en cola: 0.10435\n",
      "promedio de trabajo: 151.74676\n",
      "Ultima ejecucion de trabajo: 60.00008267\n"
     ]
    }
   ],
   "source": [
    "#Gorilla\n",
    "mSol = 6000\n",
    "time = 60\n",
    "speed = 1/(100*60)\n",
    "cores = 1\n",
    "task = None\n",
    "task, btime, ftime, ttask, ptask, pttime, timef = simulate(mSol, time, speed, cores)\n",
    "print(\"Solicitudes atendidas:\",task)\n",
    "print(\"Tiempo ocupado:\",btime*mSol)\n",
    "print(\"Tiempo Libre:\",ftime*mSol)\n",
    "print(\"Tiempo en cola:\",ttask)\n",
    "print(\"promedio en cola:\",ptask)\n",
    "print(\"promedio de trabajo:\",pttime)\n",
    "print(\"Ultima ejecucion de trabajo:\",timef)"
   ]
  },
  {
   "cell_type": "code",
   "execution_count": 21,
   "metadata": {},
   "outputs": [
    {
     "name": "stdout",
     "output_type": "stream",
     "text": [
      "Solicitudes atendidas: [1.80032e+05 1.07978e+05 4.97340e+04 1.70230e+04 4.31400e+03 8.33000e+02\n",
      " 1.48000e+02 1.60000e+01 3.00000e+00 1.00000e+00]\n",
      "Tiempo ocupado: [1.79854500e+05 1.07619977e+05 4.99607321e+04 1.69605999e+04\n",
      " 4.23686861e+03 8.48719685e+02 1.48087550e+02 1.91599955e+01\n",
      " 4.39516998e+00 5.68747540e-01]\n",
      "Tiempo Libre: [180145.49961027 252380.02321124 310039.26794172 343039.40005078\n",
      " 355763.13139356 359151.28031544 359851.91245036 359980.84000452\n",
      " 359995.60483002 359999.43125246]\n",
      "Tiempo en cola: 0.0\n",
      "promedio en cola: 0.0\n",
      "promedio de trabajo: 0.0\n",
      "Ultima ejecucion de trabajo: 60.00000716\n"
     ]
    }
   ],
   "source": [
    "#Ant\n",
    "mSol = 6000\n",
    "time = 60\n",
    "speed = 1/(10*60)\n",
    "cores = 10\n",
    "task = None\n",
    "task, btime, ftime, ttask, ptask, pttime, timef = simulate(mSol, time, speed, cores)\n",
    "print(\"Solicitudes atendidas:\",task)\n",
    "print(\"Tiempo ocupado:\",btime*mSol)\n",
    "print(\"Tiempo Libre:\",ftime*mSol)\n",
    "print(\"Tiempo en cola:\",ttask)\n",
    "print(\"promedio en cola:\",ptask)\n",
    "print(\"promedio de trabajo:\",pttime)\n",
    "print(\"Ultima ejecucion de trabajo:\",timef)"
   ]
  },
  {
   "cell_type": "markdown",
   "metadata": {},
   "source": [
    "## Task 4"
   ]
  },
  {
   "cell_type": "code",
   "execution_count": 29,
   "metadata": {},
   "outputs": [
    {
     "name": "stdout",
     "output_type": "stream",
     "text": [
      "Solicitudes atendidas: [1.80869e+05 1.08170e+05 4.93640e+04 1.67700e+04 4.35800e+03 8.66000e+02\n",
      " 1.24000e+02 1.90000e+01 2.00000e+00 0.00000e+00 0.00000e+00 0.00000e+00\n",
      " 0.00000e+00 0.00000e+00 0.00000e+00 0.00000e+00 0.00000e+00 0.00000e+00\n",
      " 0.00000e+00 0.00000e+00 0.00000e+00 0.00000e+00 0.00000e+00 0.00000e+00\n",
      " 0.00000e+00 0.00000e+00 0.00000e+00 0.00000e+00 0.00000e+00 0.00000e+00]\n",
      "Tiempo ocupado: [1.79896210e+05 1.07789626e+05 4.98059649e+04 1.68942783e+04\n",
      " 4.26558403e+03 8.08290159e+02 1.41007854e+02 1.32732885e+01\n",
      " 2.78068319e+00 0.00000000e+00 0.00000000e+00 0.00000000e+00\n",
      " 0.00000000e+00 0.00000000e+00 0.00000000e+00 0.00000000e+00\n",
      " 0.00000000e+00 0.00000000e+00 0.00000000e+00 0.00000000e+00\n",
      " 0.00000000e+00 0.00000000e+00 0.00000000e+00 0.00000000e+00\n",
      " 0.00000000e+00 0.00000000e+00 0.00000000e+00 0.00000000e+00\n",
      " 0.00000000e+00 0.00000000e+00]\n",
      "Tiempo Libre: [180103.78952547 252210.37350086 310194.03508467 343105.72172991\n",
      " 355734.41597366 359191.7098414  359858.9921464  359986.72671145\n",
      " 359997.21931681 360000.         360000.         360000.\n",
      " 360000.         360000.         360000.         360000.\n",
      " 360000.         360000.         360000.         360000.\n",
      " 360000.         360000.         360000.         360000.\n",
      " 360000.         360000.         360000.         360000.\n",
      " 360000.         360000.        ]\n",
      "Tiempo en cola: 0.0\n",
      "promedio en cola: 0.0\n",
      "promedio de trabajo: 0.0\n",
      "Ultima ejecucion de trabajo: 60.00044418\n"
     ]
    }
   ],
   "source": [
    "#Ant\n",
    "mSol = 6000\n",
    "time = 60\n",
    "speed = 1/(10*60)\n",
    "cores = 30\n",
    "task = None\n",
    "task, btime, ftime, ttask, ptask, pttime, timef = simulate(mSol, time, speed, cores)\n",
    "print(\"Solicitudes atendidas:\",task)\n",
    "print(\"Tiempo ocupado:\",btime*mSol)\n",
    "print(\"Tiempo Libre:\",ftime*mSol)\n",
    "print(\"Tiempo en cola:\",ttask)\n",
    "print(\"promedio en cola:\",ptask)\n",
    "print(\"promedio de trabajo:\",pttime)\n",
    "print(\"Ultima ejecucion de trabajo:\",timef)"
   ]
  },
  {
   "cell_type": "markdown",
   "metadata": {},
   "source": [
    "## Task 5"
   ]
  },
  {
   "cell_type": "markdown",
   "metadata": {},
   "source": [
    "Segun los resultados de los analisis anteriores se puede recomendar a la empresa que se utilize la mayor cantidad de servidores posibles ya que se distribuye mejor las task y se desperdicia muy poco tiempo, la cantidad sugerida seria de aproximadamente 25 servidores para no quedarse cortos"
   ]
  }
 ],
 "metadata": {
  "kernelspec": {
   "display_name": "Python 3",
   "language": "python",
   "name": "python3"
  },
  "language_info": {
   "codemirror_mode": {
    "name": "ipython",
    "version": 3
   },
   "file_extension": ".py",
   "mimetype": "text/x-python",
   "name": "python",
   "nbconvert_exporter": "python",
   "pygments_lexer": "ipython3",
   "version": "3.8.2"
  }
 },
 "nbformat": 4,
 "nbformat_minor": 4
}
